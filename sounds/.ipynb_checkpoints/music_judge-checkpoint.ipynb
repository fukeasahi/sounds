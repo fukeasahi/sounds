{
 "cells": [
  {
   "cell_type": "code",
   "execution_count": 2,
   "metadata": {},
   "outputs": [
    {
     "name": "stdout",
     "output_type": "stream",
     "text": [
      "Requirement already satisfied: SpeechRecognition in /Users/asahi/opt/anaconda3/lib/python3.8/site-packages (3.8.1)\n",
      "Note: you may need to restart the kernel to use updated packages.\n"
     ]
    }
   ],
   "source": [
    "# pip install SpeechRecognition"
   ]
  },
  {
   "cell_type": "code",
   "execution_count": 89,
   "metadata": {},
   "outputs": [
    {
     "name": "stdout",
     "output_type": "stream",
     "text": [
      "['/Users/asahi/Documents/python-practice/works/skills/movie/skills1.mp4']\n",
      "['/Users/asahi/Documents/python-practice/works/skills/movie/skills1.mp4']\n",
      "skills1\n",
      "/Users/asahi/Documents/python-practice/works/skills/voice/skills1.wav\n",
      "ffmpeg -i /Users/asahi/Documents/python-practice/works/skills/movie/skills1.mp4 /Users/asahi/Documents/python-practice/works/skills/voice/skills1.wav\n",
      "東進ハイスクールをこれた講師陣 そして最後ですね 一人一人と声優になるって書いてるんですけど 取得完了\n",
      "ワードに出力完了\n"
     ]
    }
   ],
   "source": [
    "# step0　動画をダウンロードして/Users/asahi/Desktop/works/{}/movie/におく\n",
    "# step1　/Users/asahi/Desktop/works/{}/movie/にある動画をwavに変換する。\n",
    "import glob\n",
    "from natsort import natsorted\n",
    "import os\n",
    "import subprocess\n",
    "\n",
    "title = \"skills\"\n",
    "\n",
    "mp4_files = natsorted(glob.glob(\"/Users/asahi/Documents/python-practice/works/{}/movie/*\".format(title)))\n",
    "print(mp4_files)\n",
    "for i, mp4_file in enumerate(mp4_files):\n",
    "    os.rename(mp4_file, \"/Users/asahi/Documents/python-practice/works/{}/movie/{}{}.mp4\".format(title,title,str(i+1)))\n",
    "    \n",
    "movies = natsorted(glob.glob(\"/Users/asahi/Documents/python-practice/works/{}/movie/*\".format(title)))\n",
    "print(movies)\n",
    "for movie in movies:\n",
    "    file_name_without_ext = os.path.basename(movie).split(\".\")[0]\n",
    "    print(file_name_without_ext)\n",
    "    output_movie = movie.replace(\".mp4\",\".wav\").replace(\"movie/\",\"voice/\")\n",
    "    print(output_movie)\n",
    "    cmd = 'ffmpeg -i ' + movie + ' ' + output_movie\n",
    "    print(cmd)\n",
    "    subprocess.call(cmd,shell=True)\n",
    "    \n",
    "    # step2　wavからテキストデータに変換する\n",
    "    import speech_recognition as sr\n",
    "    r = sr.Recognizer()\n",
    "    with sr.AudioFile(output_movie) as source:\n",
    "        audio = r.record(source)\n",
    "        text = r.recognize_google(audio,language=\"ja\")\n",
    "        print(text,\"取得完了\")\n",
    "    \n",
    "        # step3　テキストデータを修正\n",
    "        # step4　テキストデータをワードに出力\n",
    "        from docx import Document\n",
    "        word_write_file_name = file_name_without_ext + \".docx\"\n",
    "        document = Document()\n",
    "        document.add_paragraph(text)\n",
    "        document.save(word_write_file_name)\n",
    "        print(\"ワードに出力完了\")\n"
   ]
  },
  {
   "cell_type": "code",
   "execution_count": null,
   "metadata": {},
   "outputs": [],
   "source": []
  },
  {
   "cell_type": "code",
   "execution_count": null,
   "metadata": {},
   "outputs": [],
   "source": []
  },
  {
   "cell_type": "code",
   "execution_count": 86,
   "metadata": {},
   "outputs": [],
   "source": [
    "# import glob\n",
    "# from natsort import natsorted\n",
    "# import os\n",
    "# import subprocess\n",
    "\n",
    "# title = \"skills\"\n",
    "\n",
    "# mp4_files = natsorted(glob.glob(\"/Users/asahi/Desktop/works/{}/movie/*\".format(title)))\n",
    "# print(mp4_files)\n",
    "# for i, mp4_file in enumerate(mp4_files):\n",
    "#     os.rename(mp4_file, \"/Users/asahi/Desktop/works/{}/movie/{}{}.mp4\".format(title,title,str(i+1)))\n",
    "    \n",
    "# movies = natsorted(glob.glob(\"/Users/asahi/Desktop/works/{}/movie/*\".format(title)))\n",
    "# print(movies)\n",
    "# for movie in movies:\n",
    "#     file_name_without_ext = os.path.basename(movie).split(\".\")[0]\n",
    "#     print(file_name_without_ext)\n",
    "#     output_movie = movie.replace(\".mp4\",\".mp3\").replace(\"movie/\",\"voice/\")\n",
    "#     print(output_movie)\n",
    "#     cmd = 'ffmpeg -i ' + movie + ' ' + output_movie\n",
    "#     print(cmd)\n",
    "#     subprocess.call(cmd,shell=True)"
   ]
  },
  {
   "cell_type": "code",
   "execution_count": 87,
   "metadata": {},
   "outputs": [],
   "source": [
    "# pip install ffmpeg-python"
   ]
  },
  {
   "cell_type": "code",
   "execution_count": null,
   "metadata": {},
   "outputs": [],
   "source": []
  },
  {
   "cell_type": "code",
   "execution_count": null,
   "metadata": {},
   "outputs": [],
   "source": []
  },
  {
   "cell_type": "code",
   "execution_count": null,
   "metadata": {},
   "outputs": [],
   "source": []
  }
 ],
 "metadata": {
  "kernelspec": {
   "display_name": "Python 3",
   "language": "python",
   "name": "python3"
  },
  "language_info": {
   "codemirror_mode": {
    "name": "ipython",
    "version": 3
   },
   "file_extension": ".py",
   "mimetype": "text/x-python",
   "name": "python",
   "nbconvert_exporter": "python",
   "pygments_lexer": "ipython3",
   "version": "3.8.3"
  }
 },
 "nbformat": 4,
 "nbformat_minor": 4
}
